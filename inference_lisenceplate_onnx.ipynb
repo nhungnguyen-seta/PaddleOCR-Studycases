{
 "cells": [
  {
   "cell_type": "code",
   "execution_count": 70,
   "metadata": {},
   "outputs": [],
   "source": [
    "import os\n",
    "import sys\n",
    "import subprocess\n",
    "\n",
    "os.environ[\"FLAGS_allocator_strategy\"] = 'auto_growth'\n",
    "\n",
    "import cv2\n",
    "import copy\n",
    "import numpy as np\n",
    "import json\n",
    "import time\n",
    "import logging\n",
    "from PIL import Image\n",
    "import tools.infer.utility as utility\n",
    "import tools.infer.predict_rec as predict_rec\n",
    "import tools.infer.predict_det as predict_det\n",
    "import tools.infer.predict_cls as predict_cls\n",
    "from tools.infer.predict_system import TextSystem\n",
    "from ppocr.utils.utility import get_image_file_list, check_and_read_gif\n",
    "from ppocr.utils.logging import get_logger\n",
    "from tools.infer.utility import draw_ocr_box_txt, get_rotate_crop_image\n",
    "import argparse\n",
    "logger = get_logger()\n"
   ]
  },
  {
   "cell_type": "code",
   "execution_count": 63,
   "metadata": {},
   "outputs": [],
   "source": [
    "text_detector = './inference/en_PP-OCRv3_det_infer.onnx'\n",
    "text_recognizer = './inference/PPOCRv3_rec_lisenceplate_14112022.onnx'\n",
    "text_classifier = './inference/ch_ppocr_mobile_v2.0_cls_infer.onnx'\n",
    "use_onnx = True"
   ]
  },
  {
   "cell_type": "code",
   "execution_count": 67,
   "metadata": {},
   "outputs": [],
   "source": [
    "from paddleocr_config import get_config\n",
    "args = get_config()"
   ]
  },
  {
   "cell_type": "code",
   "execution_count": 68,
   "metadata": {},
   "outputs": [],
   "source": [
    "args.image_dir = 'test_imgs/1.png'"
   ]
  },
  {
   "cell_type": "code",
   "execution_count": 69,
   "metadata": {},
   "outputs": [
    {
     "name": "stdout",
     "output_type": "stream",
     "text": [
      "test_imgs/1.png  Predict time of test_imgs/1.png: 0.226s\n"
     ]
    },
    {
     "data": {
      "text/plain": [
       "[{'transcription': '67A-106.01',\n",
       "  'points': [[2, 144], [365, 10], [391, 112], [37, 246]]}]"
      ]
     },
     "execution_count": 69,
     "metadata": {},
     "output_type": "execute_result"
    }
   ],
   "source": [
    "image_file = args.image_dir\n",
    "text_sys = TextSystem(args)\n",
    "\n",
    "\n",
    "save_results = []\n",
    "total_time = 0\n",
    "cpu_mem, gpu_mem, gpu_util = 0, 0, 0\n",
    "_st = time.time()\n",
    "count = 0\n",
    "\n",
    "img = cv2.imread(image_file)\n",
    "if img is None:\n",
    "    logger.debug(\"error in loading image:{}\".format(image_file))\n",
    "\n",
    "starttime = time.time()\n",
    "dt_boxes, rec_res = text_sys(img)\n",
    "elapse = time.time() - starttime\n",
    "total_time += elapse\n",
    "\n",
    "# for text, score in rec_res:\n",
    "#     logger.debug(\"{}, {:.3f}\".format(text, score))\n",
    "print(str(image_file) + \"  Predict time of %s: %.3fs\" % (image_file, elapse))\n",
    "res = [{\n",
    "    \"transcription\": rec_res[idx][0],\n",
    "    \"points\": np.array(dt_boxes[idx]).astype(np.int32).tolist(),\n",
    "} for idx in range(len(dt_boxes))]\n",
    "res\n"
   ]
  }
 ],
 "metadata": {
  "kernelspec": {
   "display_name": "Python 3.9.12 ('paddle_env')",
   "language": "python",
   "name": "python3"
  },
  "language_info": {
   "codemirror_mode": {
    "name": "ipython",
    "version": 3
   },
   "file_extension": ".py",
   "mimetype": "text/x-python",
   "name": "python",
   "nbconvert_exporter": "python",
   "pygments_lexer": "ipython3",
   "version": "3.9.12"
  },
  "orig_nbformat": 4,
  "vscode": {
   "interpreter": {
    "hash": "770a9b4509d7b34f2f659fc510773146a605d970ab7f73400140f3f86c208fa6"
   }
  }
 },
 "nbformat": 4,
 "nbformat_minor": 2
}
