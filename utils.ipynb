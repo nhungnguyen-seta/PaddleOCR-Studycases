{
 "cells": [
  {
   "cell_type": "code",
   "execution_count": 4,
   "metadata": {},
   "outputs": [],
   "source": [
    "import numpy as np\n",
    "import os\n",
    "import shutil\n",
    "import pandas as pd\n",
    "import shutil"
   ]
  },
  {
   "cell_type": "code",
   "execution_count": 97,
   "metadata": {},
   "outputs": [],
   "source": [
    "data_dir = '/home/nhungnth/Data/nhung/DataOCR/OCR_carmodel/Data_carmodel_additional12012022'\n",
    "#data_dir = '/home/nhungnth/Data/nhung/DataOCR/OCR_carmodel/Data_carmodel_VBI'\n",
    "des_dir = '/home/nhungnth/Data/nhung/DataOCR/OCR_carmodel/train_data_carmodel'"
   ]
  },
  {
   "cell_type": "code",
   "execution_count": 98,
   "metadata": {},
   "outputs": [],
   "source": [
    "exist_folders = []\n",
    "for f in os.listdir(des_dir):\n",
    "    exist_folders.append(f.upper())"
   ]
  },
  {
   "cell_type": "code",
   "execution_count": 99,
   "metadata": {},
   "outputs": [
    {
     "name": "stdout",
     "output_type": "stream",
     "text": [
      "ADD  GLC300\n",
      "ADD  ATTRAGE\n",
      "ADD  CHEVROLET\n",
      "ADD  COROLLA ALTIS\n",
      "ADD  HINO\n",
      "ADD  HR-V\n",
      "ADD  HYUNDAI\n",
      "ADD  RAIZE\n",
      "ADD  RONDO\n",
      "ADD  RS\n",
      "ADD  S90\n",
      "ADD  TERRITORY\n",
      "ADD  THACO\n",
      "ADD  VINFAST\n"
     ]
    }
   ],
   "source": [
    "count = 0\n",
    "for c in os.listdir(data_dir):\n",
    "    if c not in exist_folders:\n",
    "        os.mkdir(os.path.join(des_dir, c))\n",
    "        print('ADD ', c)\n",
    "    for img in os.listdir(os.path.join(data_dir,c)):\n",
    "        for f in os.listdir(des_dir):\n",
    "            if f.upper() == c.upper():\n",
    "                des_folder = f\n",
    "                count = count + 1\n",
    "        img_dst = os.path.join(des_dir,des_folder)+'/'+c+str(count)+'_update12012023.png'\n",
    "        shutil.copyfile(os.path.join(data_dir,c,img), img_dst)\n"
   ]
  },
  {
   "cell_type": "code",
   "execution_count": 100,
   "metadata": {},
   "outputs": [
    {
     "data": {
      "text/plain": [
       "1380"
      ]
     },
     "execution_count": 100,
     "metadata": {},
     "output_type": "execute_result"
    }
   ],
   "source": [
    "count"
   ]
  },
  {
   "cell_type": "code",
   "execution_count": 3,
   "metadata": {},
   "outputs": [
    {
     "name": "stdout",
     "output_type": "stream",
     "text": [
      "SOLUTO\n",
      "SELTOS\n",
      "ALTIS\n",
      "GRANDi10\n",
      "OUTLANDER SPORT\n",
      "INNOVA\n",
      "SANTAFE\n",
      "CX-8\n",
      "MAZDA3\n",
      "CR-V\n",
      "CROSS\n",
      "OUTLANDER\n",
      "MAZDA6\n",
      "EVEREST\n",
      "CX-3\n",
      "CITY\n",
      "CERATO\n",
      "MAZDA5\n",
      "ECOSPORT\n",
      "FORTUNER\n",
      "RANGER\n",
      "i10\n",
      "ISUZU\n",
      "CARNIVAL\n",
      "TUCSON\n",
      "morning\n",
      "YARIS\n",
      "KONA\n",
      "D-MAX\n",
      "TEANA\n",
      "VIOS\n",
      "CIVIC\n",
      "Elantra\n",
      "CX-7\n",
      "ACCENT\n",
      "MAZDA2\n",
      "XPANDER\n",
      "CAMRY\n",
      "CX-5\n",
      "SUNNY\n"
     ]
    }
   ],
   "source": [
    "data_dir = '/home/os/Desktop/SETA/Seta_Car/dataset_carmodels/raw_data'\n",
    "train_dir = '/home/os/Desktop/SETA/Seta_Car/PaddleOCR/train_data'\n",
    "for c in os.listdir(data_dir):\n",
    "    print(c)\n",
    "    os.mkdir(os.path.join(train_dir, c))\n",
    "    count = 0\n",
    "    for img in os.listdir(os.path.join(data_dir,c)):\n",
    "        img_dst = os.path.join(train_dir,c)+'/'+c+str(count)+'.png'\n",
    "        shutil.copyfile(os.path.join(data_dir,c,img), img_dst)\n",
    "        count=count+1\n"
   ]
  },
  {
   "cell_type": "code",
   "execution_count": 109,
   "metadata": {},
   "outputs": [],
   "source": [
    "dict_imgs = {}\n",
    "train_dir = '/home/os/Desktop/SETA/Seta_Car/PaddleOCR/train_data'\n",
    "train_dir = '/home/nhungnth/Data/nhung/DataOCR/OCR_carmodel/Data_carmodel_additional12012022'\n",
    "#train_dir = '/home/nhungnth/Data/nhung/DataOCR/dataset_carmodels_20221123/train_data_carmodel'\n",
    "train_dir = '/home/nhungnth/Data/nhung/DataOCR/OCR_carmodel/Data_train_carmodel_20230112'\n",
    "for c in os.listdir(train_dir):\n",
    "    dir_path = os.path.join(train_dir,c)\n",
    "    if dir_path[-3:] != 'txt':\n",
    "        count = len([entry for entry in os.listdir(dir_path) if os.path.isfile(os.path.join(dir_path, entry))])\n",
    "        \n",
    "        dict_imgs[c] = len([entry for entry in os.listdir(dir_path) if os.path.isfile(os.path.join(dir_path, entry))])\n",
    "        "
   ]
  },
  {
   "cell_type": "code",
   "execution_count": 110,
   "metadata": {},
   "outputs": [
    {
     "data": {
      "text/plain": [
       "6510"
      ]
     },
     "execution_count": 110,
     "metadata": {},
     "output_type": "execute_result"
    }
   ],
   "source": [
    "df1 = pd.DataFrame.from_dict(dict_imgs, orient='index')\n",
    "df1['Model'] = df1.index \n",
    "df1['Model'] = df1['Model'].apply(lambda x: x.upper())\n",
    "df1 = df1.set_index('Model')\n",
    "df1.columns = ['Num_imgs']\n",
    "df1['Num_imgs'].sum()"
   ]
  },
  {
   "cell_type": "code",
   "execution_count": 113,
   "metadata": {},
   "outputs": [
    {
     "data": {
      "text/html": [
       "<div>\n",
       "<style scoped>\n",
       "    .dataframe tbody tr th:only-of-type {\n",
       "        vertical-align: middle;\n",
       "    }\n",
       "\n",
       "    .dataframe tbody tr th {\n",
       "        vertical-align: top;\n",
       "    }\n",
       "\n",
       "    .dataframe thead th {\n",
       "        text-align: right;\n",
       "    }\n",
       "</style>\n",
       "<table border=\"1\" class=\"dataframe\">\n",
       "  <thead>\n",
       "    <tr style=\"text-align: right;\">\n",
       "      <th></th>\n",
       "      <th>Num_imgs</th>\n",
       "    </tr>\n",
       "    <tr>\n",
       "      <th>Model</th>\n",
       "      <th></th>\n",
       "    </tr>\n",
       "  </thead>\n",
       "  <tbody>\n",
       "    <tr>\n",
       "      <th>VIOS</th>\n",
       "      <td>495</td>\n",
       "    </tr>\n",
       "    <tr>\n",
       "      <th>INNOVA</th>\n",
       "      <td>445</td>\n",
       "    </tr>\n",
       "    <tr>\n",
       "      <th>CX-5</th>\n",
       "      <td>337</td>\n",
       "    </tr>\n",
       "    <tr>\n",
       "      <th>RANGER</th>\n",
       "      <td>316</td>\n",
       "    </tr>\n",
       "    <tr>\n",
       "      <th>HILUX</th>\n",
       "      <td>248</td>\n",
       "    </tr>\n",
       "    <tr>\n",
       "      <th>XPANDER</th>\n",
       "      <td>207</td>\n",
       "    </tr>\n",
       "    <tr>\n",
       "      <th>FORTUNER</th>\n",
       "      <td>189</td>\n",
       "    </tr>\n",
       "    <tr>\n",
       "      <th>CROSS</th>\n",
       "      <td>182</td>\n",
       "    </tr>\n",
       "    <tr>\n",
       "      <th>EVEREST</th>\n",
       "      <td>168</td>\n",
       "    </tr>\n",
       "    <tr>\n",
       "      <th>SORENTO</th>\n",
       "      <td>166</td>\n",
       "    </tr>\n",
       "    <tr>\n",
       "      <th>ELANTRA</th>\n",
       "      <td>160</td>\n",
       "    </tr>\n",
       "    <tr>\n",
       "      <th>MORNING</th>\n",
       "      <td>153</td>\n",
       "    </tr>\n",
       "    <tr>\n",
       "      <th>TUCSON</th>\n",
       "      <td>143</td>\n",
       "    </tr>\n",
       "    <tr>\n",
       "      <th>COLORADO</th>\n",
       "      <td>143</td>\n",
       "    </tr>\n",
       "    <tr>\n",
       "      <th>BT-50</th>\n",
       "      <td>137</td>\n",
       "    </tr>\n",
       "    <tr>\n",
       "      <th>ACCENT</th>\n",
       "      <td>135</td>\n",
       "    </tr>\n",
       "    <tr>\n",
       "      <th>TRITON</th>\n",
       "      <td>131</td>\n",
       "    </tr>\n",
       "    <tr>\n",
       "      <th>RUSH</th>\n",
       "      <td>125</td>\n",
       "    </tr>\n",
       "    <tr>\n",
       "      <th>ALTIS</th>\n",
       "      <td>118</td>\n",
       "    </tr>\n",
       "    <tr>\n",
       "      <th>CITY</th>\n",
       "      <td>115</td>\n",
       "    </tr>\n",
       "    <tr>\n",
       "      <th>LUX A2.0</th>\n",
       "      <td>111</td>\n",
       "    </tr>\n",
       "    <tr>\n",
       "      <th>XL7</th>\n",
       "      <td>111</td>\n",
       "    </tr>\n",
       "    <tr>\n",
       "      <th>CERATO</th>\n",
       "      <td>106</td>\n",
       "    </tr>\n",
       "    <tr>\n",
       "      <th>SEDONA</th>\n",
       "      <td>106</td>\n",
       "    </tr>\n",
       "    <tr>\n",
       "      <th>GRANDI10</th>\n",
       "      <td>103</td>\n",
       "    </tr>\n",
       "    <tr>\n",
       "      <th>ECOSPORT</th>\n",
       "      <td>102</td>\n",
       "    </tr>\n",
       "    <tr>\n",
       "      <th>CR-V</th>\n",
       "      <td>99</td>\n",
       "    </tr>\n",
       "    <tr>\n",
       "      <th>SOLUTO</th>\n",
       "      <td>97</td>\n",
       "    </tr>\n",
       "    <tr>\n",
       "      <th>CAMRY</th>\n",
       "      <td>95</td>\n",
       "    </tr>\n",
       "    <tr>\n",
       "      <th>SANTAFE</th>\n",
       "      <td>91</td>\n",
       "    </tr>\n",
       "    <tr>\n",
       "      <th>OUTLANDER</th>\n",
       "      <td>87</td>\n",
       "    </tr>\n",
       "    <tr>\n",
       "      <th>CIVIC</th>\n",
       "      <td>85</td>\n",
       "    </tr>\n",
       "    <tr>\n",
       "      <th>ATTRAGE</th>\n",
       "      <td>84</td>\n",
       "    </tr>\n",
       "    <tr>\n",
       "      <th>MAZDA3</th>\n",
       "      <td>83</td>\n",
       "    </tr>\n",
       "    <tr>\n",
       "      <th>KONA</th>\n",
       "      <td>78</td>\n",
       "    </tr>\n",
       "    <tr>\n",
       "      <th>LUX SA2.0</th>\n",
       "      <td>78</td>\n",
       "    </tr>\n",
       "    <tr>\n",
       "      <th>MAZDA6</th>\n",
       "      <td>72</td>\n",
       "    </tr>\n",
       "    <tr>\n",
       "      <th>FADIL</th>\n",
       "      <td>72</td>\n",
       "    </tr>\n",
       "    <tr>\n",
       "      <th>SELTOS</th>\n",
       "      <td>69</td>\n",
       "    </tr>\n",
       "    <tr>\n",
       "      <th>NAVARA</th>\n",
       "      <td>62</td>\n",
       "    </tr>\n",
       "    <tr>\n",
       "      <th>D-MAX</th>\n",
       "      <td>59</td>\n",
       "    </tr>\n",
       "    <tr>\n",
       "      <th>CARNIVAL</th>\n",
       "      <td>58</td>\n",
       "    </tr>\n",
       "    <tr>\n",
       "      <th>K3</th>\n",
       "      <td>48</td>\n",
       "    </tr>\n",
       "    <tr>\n",
       "      <th>CX-8</th>\n",
       "      <td>46</td>\n",
       "    </tr>\n",
       "    <tr>\n",
       "      <th>MAZDA2</th>\n",
       "      <td>39</td>\n",
       "    </tr>\n",
       "    <tr>\n",
       "      <th>GLC300</th>\n",
       "      <td>38</td>\n",
       "    </tr>\n",
       "    <tr>\n",
       "      <th>YARIS</th>\n",
       "      <td>37</td>\n",
       "    </tr>\n",
       "    <tr>\n",
       "      <th>LUX A2.0 TURBO</th>\n",
       "      <td>35</td>\n",
       "    </tr>\n",
       "    <tr>\n",
       "      <th>ISUZU</th>\n",
       "      <td>30</td>\n",
       "    </tr>\n",
       "    <tr>\n",
       "      <th>TEANA</th>\n",
       "      <td>29</td>\n",
       "    </tr>\n",
       "  </tbody>\n",
       "</table>\n",
       "</div>"
      ],
      "text/plain": [
       "                Num_imgs\n",
       "Model                   \n",
       "VIOS                 495\n",
       "INNOVA               445\n",
       "CX-5                 337\n",
       "RANGER               316\n",
       "HILUX                248\n",
       "XPANDER              207\n",
       "FORTUNER             189\n",
       "CROSS                182\n",
       "EVEREST              168\n",
       "SORENTO              166\n",
       "ELANTRA              160\n",
       "MORNING              153\n",
       "TUCSON               143\n",
       "COLORADO             143\n",
       "BT-50                137\n",
       "ACCENT               135\n",
       "TRITON               131\n",
       "RUSH                 125\n",
       "ALTIS                118\n",
       "CITY                 115\n",
       "LUX A2.0             111\n",
       "XL7                  111\n",
       "CERATO               106\n",
       "SEDONA               106\n",
       "GRANDI10             103\n",
       "ECOSPORT             102\n",
       "CR-V                  99\n",
       "SOLUTO                97\n",
       "CAMRY                 95\n",
       "SANTAFE               91\n",
       "OUTLANDER             87\n",
       "CIVIC                 85\n",
       "ATTRAGE               84\n",
       "MAZDA3                83\n",
       "KONA                  78\n",
       "LUX SA2.0             78\n",
       "MAZDA6                72\n",
       "FADIL                 72\n",
       "SELTOS                69\n",
       "NAVARA                62\n",
       "D-MAX                 59\n",
       "CARNIVAL              58\n",
       "K3                    48\n",
       "CX-8                  46\n",
       "MAZDA2                39\n",
       "GLC300                38\n",
       "YARIS                 37\n",
       "LUX A2.0 TURBO        35\n",
       "ISUZU                 30\n",
       "TEANA                 29"
      ]
     },
     "execution_count": 113,
     "metadata": {},
     "output_type": "execute_result"
    }
   ],
   "source": [
    "df1.sort_values(by='Num_imgs', ascending=False).head(50)"
   ]
  },
  {
   "cell_type": "code",
   "execution_count": 93,
   "metadata": {},
   "outputs": [
    {
     "data": {
      "text/plain": [
       "5082"
      ]
     },
     "execution_count": 93,
     "metadata": {},
     "output_type": "execute_result"
    }
   ],
   "source": [
    "df1 = pd.DataFrame.from_dict(dict_imgs, orient='index')\n",
    "df1['Model'] = df1.index \n",
    "df1['Model'] = df1['Model'].apply(lambda x: x.upper())\n",
    "df1 = df1.set_index('Model')\n",
    "df1.columns = ['Num_imgs']\n",
    "df1['Num_imgs'].sum()"
   ]
  },
  {
   "cell_type": "code",
   "execution_count": 96,
   "metadata": {},
   "outputs": [
    {
     "data": {
      "text/plain": [
       "6462"
      ]
     },
     "execution_count": 96,
     "metadata": {},
     "output_type": "execute_result"
    }
   ],
   "source": [
    "5082 + 1380"
   ]
  },
  {
   "cell_type": "code",
   "execution_count": 115,
   "metadata": {},
   "outputs": [],
   "source": [
    "data_dir = '/home/nhungnth/Data/nhung/DataOCR/OCR_carmodel/Data_train_carmodel_20230112'\n",
    "with open('rec_carmodels_20230112.txt', 'w') as f:\n",
    "    for c in os.listdir(data_dir):\n",
    "        #if c!= 'rec_carmodels.txt':\n",
    "        for img in os.listdir(os.path.join(data_dir,c)):\n",
    "            f.write('Data_train_carmodel_20230112/'+c+'/'+img+'\\t'+c+\"\\n\")"
   ]
  },
  {
   "cell_type": "code",
   "execution_count": 1,
   "metadata": {},
   "outputs": [],
   "source": [
    "with open('rec_carmodels.txt', 'w') as f:\n",
    "    f.write('Create a new text file!')\n",
    "for ext in [\"*.png\", \"*.jpeg\", \"*.jpg\"]:\n",
    "  images = glob2.glob(os.path.join(\"dataset/img/\", ext))"
   ]
  },
  {
   "cell_type": "markdown",
   "metadata": {},
   "source": [
    "### Create label for lisence plate"
   ]
  },
  {
   "cell_type": "code",
   "execution_count": 1,
   "metadata": {},
   "outputs": [],
   "source": [
    "path_train_data = '/home/nhungnth/Data/nhung/DataOCR/OCR_LisencePlate/update_datatrain_16012023'\n",
    "with open('/home/nhungnth/Data/nhung/DataOCR/OCR_LisencePlate/rec_lisenceplate-update.txt', 'w') as f:\n",
    "    for img_name in os.listdir(path_train_data):\n",
    "        # if img_name!= 'rec_lisenceplate.txt':\n",
    "        lable = img_name.split('_')[-1][:-4]\n",
    "        f.write('train_data_lisenceplate/'+img_name+'\\t'+lable+\"\\n\")"
   ]
  },
  {
   "cell_type": "code",
   "execution_count": 7,
   "metadata": {},
   "outputs": [],
   "source": [
    "path_train_data = '/home/ubuntu/ds-veritone-energy/nhung/PaddleOCR-Studycases/train_data_lisenceplate'\n",
    "with open('/home/ubuntu/ds-veritone-energy/nhung/PaddleOCR-Studycases/rec_lisenceplate-update.txt', 'w') as f:\n",
    "    for img_name in os.listdir(path_train_data):\n",
    "        if '_' not in img_name:\n",
    "            label = img_name.split('-')[0]\n",
    "            if 'png' in label:\n",
    "                label = label[:-4]\n",
    "        else:\n",
    "            label = img_name.split('_')[-1][:-4]\n",
    "\n",
    "        #shutil.copyfile(os.path.join('/home/os/Desktop/SETA/Seta_Car/Dataset_Bienso',img_name), os.path.join(path_train_data,img_name))\n",
    "        f.write('train_data_lisenceplate/'+img_name+'\\t'+label+\"\\n\")\n"
   ]
  },
  {
   "cell_type": "code",
   "execution_count": 5,
   "metadata": {},
   "outputs": [
    {
     "data": {
      "text/plain": [
       "'7'"
      ]
     },
     "execution_count": 5,
     "metadata": {},
     "output_type": "execute_result"
    }
   ],
   "source": [
    "text = '7-Screenshot from 2022-09-12 09-46-55.png'\n",
    "text.split('-')[0]"
   ]
  },
  {
   "cell_type": "code",
   "execution_count": 18,
   "metadata": {},
   "outputs": [
    {
     "name": "stdout",
     "output_type": "stream",
     "text": [
      "4052\n"
     ]
    }
   ],
   "source": [
    "with open('/home/os/Desktop/SETA/PaddleOCR-Studycases/rec_lisenceplate.txt', 'r') as f:\n",
    "    Lines = f.readlines()\n",
    "  \n",
    "    count = 0\n",
    "    # Strips the newline character\n",
    "    for line in Lines:\n",
    "        count += 1\n",
    "        label = line.strip().split('\\t')[-1]\n",
    "        if 'png' in lable or 'jpg' in label:\n",
    "            print(line.strip().split('\\t')[0])\n",
    "print(count)"
   ]
  }
 ],
 "metadata": {
  "kernelspec": {
   "display_name": "nhung_env_carinfo",
   "language": "python",
   "name": "python3"
  },
  "language_info": {
   "codemirror_mode": {
    "name": "ipython",
    "version": 3
   },
   "file_extension": ".py",
   "mimetype": "text/x-python",
   "name": "python",
   "nbconvert_exporter": "python",
   "pygments_lexer": "ipython3",
   "version": "3.7.15 (default, Nov 24 2022, 21:12:53) \n[GCC 11.2.0]"
  },
  "vscode": {
   "interpreter": {
    "hash": "e528d915c9b3b34da68617fd7d7c48d7caa89f525979d4d67e77a9d4e35123be"
   }
  }
 },
 "nbformat": 4,
 "nbformat_minor": 2
}
