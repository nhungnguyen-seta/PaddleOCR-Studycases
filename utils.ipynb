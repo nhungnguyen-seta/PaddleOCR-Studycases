{
 "cells": [
  {
   "cell_type": "code",
   "execution_count": 1,
   "metadata": {},
   "outputs": [],
   "source": [
    "import numpy as np\n",
    "import os\n",
    "import shutil\n",
    "import pandas as pd\n",
    "import shutil"
   ]
  },
  {
   "cell_type": "code",
   "execution_count": 3,
   "metadata": {},
   "outputs": [
    {
     "name": "stdout",
     "output_type": "stream",
     "text": [
      "SOLUTO\n",
      "SELTOS\n",
      "ALTIS\n",
      "GRANDi10\n",
      "OUTLANDER SPORT\n",
      "INNOVA\n",
      "SANTAFE\n",
      "CX-8\n",
      "MAZDA3\n",
      "CR-V\n",
      "CROSS\n",
      "OUTLANDER\n",
      "MAZDA6\n",
      "EVEREST\n",
      "CX-3\n",
      "CITY\n",
      "CERATO\n",
      "MAZDA5\n",
      "ECOSPORT\n",
      "FORTUNER\n",
      "RANGER\n",
      "i10\n",
      "ISUZU\n",
      "CARNIVAL\n",
      "TUCSON\n",
      "morning\n",
      "YARIS\n",
      "KONA\n",
      "D-MAX\n",
      "TEANA\n",
      "VIOS\n",
      "CIVIC\n",
      "Elantra\n",
      "CX-7\n",
      "ACCENT\n",
      "MAZDA2\n",
      "XPANDER\n",
      "CAMRY\n",
      "CX-5\n",
      "SUNNY\n"
     ]
    }
   ],
   "source": [
    "data_dir = '/home/os/Desktop/SETA/Seta_Car/dataset_carmodels/raw_data'\n",
    "train_dir = '/home/os/Desktop/SETA/Seta_Car/PaddleOCR/train_data'\n",
    "for c in os.listdir(data_dir):\n",
    "    print(c)\n",
    "    os.mkdir(os.path.join(train_dir, c))\n",
    "    count = 0\n",
    "    for img in os.listdir(os.path.join(data_dir,c)):\n",
    "        img_dst = os.path.join(train_dir,c)+'/'+c+str(count)+'.png'\n",
    "        shutil.copyfile(os.path.join(data_dir,c,img), img_dst)\n",
    "        count=count+1\n"
   ]
  },
  {
   "cell_type": "code",
   "execution_count": 19,
   "metadata": {},
   "outputs": [],
   "source": [
    "dict_imgs = {}\n",
    "train_dir = '/home/os/Desktop/SETA/Seta_Car/PaddleOCR/train_data'\n",
    "for c in os.listdir(train_dir):\n",
    "    dir_path = os.path.join(train_dir,c)\n",
    "    if dir_path[-3:] != 'txt':\n",
    "        count = len([entry for entry in os.listdir(dir_path) if os.path.isfile(os.path.join(dir_path, entry))])\n",
    "        \n",
    "        dict_imgs[c] = len([entry for entry in os.listdir(dir_path) if os.path.isfile(os.path.join(dir_path, entry))])\n",
    "        "
   ]
  },
  {
   "cell_type": "code",
   "execution_count": 21,
   "metadata": {},
   "outputs": [
    {
     "data": {
      "text/plain": [
       "{'SOLUTO': 3,\n",
       " 'SELTOS': 31,\n",
       " 'ALTIS': 29,\n",
       " 'GRANDi10': 28,\n",
       " 'OUTLANDER SPORT': 14,\n",
       " 'INNOVA': 23,\n",
       " 'SANTAFE': 25,\n",
       " 'CX-8': 2,\n",
       " 'MAZDA3': 49,\n",
       " 'CR-V': 38,\n",
       " 'CROSS': 38,\n",
       " 'OUTLANDER': 52,\n",
       " 'MAZDA6': 6,\n",
       " 'EVEREST': 65,\n",
       " 'CX-3': 15,\n",
       " 'CITY': 31,\n",
       " 'CERATO': 34,\n",
       " 'ELANTRA': 64,\n",
       " 'MAZDA5': 2,\n",
       " 'ECOSPORT': 59,\n",
       " 'FORTUNER': 51,\n",
       " 'RANGER': 85,\n",
       " 'i10': 17,\n",
       " 'ISUZU': 28,\n",
       " 'CARNIVAL': 38,\n",
       " 'TUCSON': 37,\n",
       " 'morning': 24,\n",
       " 'YARIS': 33,\n",
       " 'KONA': 21,\n",
       " 'D-MAX': 57,\n",
       " 'TEANA': 2,\n",
       " 'VIOS': 40,\n",
       " 'CIVIC': 64,\n",
       " 'CX-7': 2,\n",
       " 'ACCENT': 50,\n",
       " 'MAZDA2': 7,\n",
       " 'XPANDER': 35,\n",
       " 'CAMRY': 31,\n",
       " 'CX-5': 40,\n",
       " 'SUNNY': 1}"
      ]
     },
     "execution_count": 21,
     "metadata": {},
     "output_type": "execute_result"
    }
   ],
   "source": [
    "dict_imgs"
   ]
  },
  {
   "cell_type": "code",
   "execution_count": 18,
   "metadata": {},
   "outputs": [
    {
     "data": {
      "text/html": [
       "<div>\n",
       "<style scoped>\n",
       "    .dataframe tbody tr th:only-of-type {\n",
       "        vertical-align: middle;\n",
       "    }\n",
       "\n",
       "    .dataframe tbody tr th {\n",
       "        vertical-align: top;\n",
       "    }\n",
       "\n",
       "    .dataframe thead th {\n",
       "        text-align: right;\n",
       "    }\n",
       "</style>\n",
       "<table border=\"1\" class=\"dataframe\">\n",
       "  <thead>\n",
       "    <tr style=\"text-align: right;\">\n",
       "      <th></th>\n",
       "      <th>0</th>\n",
       "    </tr>\n",
       "  </thead>\n",
       "  <tbody>\n",
       "    <tr>\n",
       "      <th>SELTOS</th>\n",
       "      <td>31</td>\n",
       "    </tr>\n",
       "    <tr>\n",
       "      <th>ALTIS</th>\n",
       "      <td>29</td>\n",
       "    </tr>\n",
       "    <tr>\n",
       "      <th>GRANDi10</th>\n",
       "      <td>28</td>\n",
       "    </tr>\n",
       "    <tr>\n",
       "      <th>INNOVA</th>\n",
       "      <td>23</td>\n",
       "    </tr>\n",
       "    <tr>\n",
       "      <th>SANTAFE</th>\n",
       "      <td>25</td>\n",
       "    </tr>\n",
       "    <tr>\n",
       "      <th>MAZDA3</th>\n",
       "      <td>49</td>\n",
       "    </tr>\n",
       "    <tr>\n",
       "      <th>CR-V</th>\n",
       "      <td>38</td>\n",
       "    </tr>\n",
       "    <tr>\n",
       "      <th>CROSS</th>\n",
       "      <td>38</td>\n",
       "    </tr>\n",
       "    <tr>\n",
       "      <th>OUTLANDER</th>\n",
       "      <td>52</td>\n",
       "    </tr>\n",
       "    <tr>\n",
       "      <th>EVEREST</th>\n",
       "      <td>65</td>\n",
       "    </tr>\n",
       "    <tr>\n",
       "      <th>CITY</th>\n",
       "      <td>31</td>\n",
       "    </tr>\n",
       "    <tr>\n",
       "      <th>CERATO</th>\n",
       "      <td>34</td>\n",
       "    </tr>\n",
       "    <tr>\n",
       "      <th>ELANTRA</th>\n",
       "      <td>64</td>\n",
       "    </tr>\n",
       "    <tr>\n",
       "      <th>ECOSPORT</th>\n",
       "      <td>59</td>\n",
       "    </tr>\n",
       "    <tr>\n",
       "      <th>FORTUNER</th>\n",
       "      <td>51</td>\n",
       "    </tr>\n",
       "    <tr>\n",
       "      <th>RANGER</th>\n",
       "      <td>85</td>\n",
       "    </tr>\n",
       "    <tr>\n",
       "      <th>i10</th>\n",
       "      <td>17</td>\n",
       "    </tr>\n",
       "    <tr>\n",
       "      <th>ISUZU</th>\n",
       "      <td>28</td>\n",
       "    </tr>\n",
       "    <tr>\n",
       "      <th>CARNIVAL</th>\n",
       "      <td>38</td>\n",
       "    </tr>\n",
       "    <tr>\n",
       "      <th>TUCSON</th>\n",
       "      <td>37</td>\n",
       "    </tr>\n",
       "    <tr>\n",
       "      <th>morning</th>\n",
       "      <td>24</td>\n",
       "    </tr>\n",
       "    <tr>\n",
       "      <th>YARIS</th>\n",
       "      <td>33</td>\n",
       "    </tr>\n",
       "    <tr>\n",
       "      <th>KONA</th>\n",
       "      <td>21</td>\n",
       "    </tr>\n",
       "    <tr>\n",
       "      <th>D-MAX</th>\n",
       "      <td>57</td>\n",
       "    </tr>\n",
       "    <tr>\n",
       "      <th>VIOS</th>\n",
       "      <td>40</td>\n",
       "    </tr>\n",
       "    <tr>\n",
       "      <th>CIVIC</th>\n",
       "      <td>64</td>\n",
       "    </tr>\n",
       "    <tr>\n",
       "      <th>ACCENT</th>\n",
       "      <td>50</td>\n",
       "    </tr>\n",
       "    <tr>\n",
       "      <th>XPANDER</th>\n",
       "      <td>35</td>\n",
       "    </tr>\n",
       "    <tr>\n",
       "      <th>CAMRY</th>\n",
       "      <td>31</td>\n",
       "    </tr>\n",
       "    <tr>\n",
       "      <th>CX-5</th>\n",
       "      <td>40</td>\n",
       "    </tr>\n",
       "  </tbody>\n",
       "</table>\n",
       "</div>"
      ],
      "text/plain": [
       "            0\n",
       "SELTOS     31\n",
       "ALTIS      29\n",
       "GRANDi10   28\n",
       "INNOVA     23\n",
       "SANTAFE    25\n",
       "MAZDA3     49\n",
       "CR-V       38\n",
       "CROSS      38\n",
       "OUTLANDER  52\n",
       "EVEREST    65\n",
       "CITY       31\n",
       "CERATO     34\n",
       "ELANTRA    64\n",
       "ECOSPORT   59\n",
       "FORTUNER   51\n",
       "RANGER     85\n",
       "i10        17\n",
       "ISUZU      28\n",
       "CARNIVAL   38\n",
       "TUCSON     37\n",
       "morning    24\n",
       "YARIS      33\n",
       "KONA       21\n",
       "D-MAX      57\n",
       "VIOS       40\n",
       "CIVIC      64\n",
       "ACCENT     50\n",
       "XPANDER    35\n",
       "CAMRY      31\n",
       "CX-5       40"
      ]
     },
     "execution_count": 18,
     "metadata": {},
     "output_type": "execute_result"
    }
   ],
   "source": [
    "pd.DataFrame.from_dict(dict_imgs, orient='index')"
   ]
  },
  {
   "cell_type": "code",
   "execution_count": 5,
   "metadata": {},
   "outputs": [],
   "source": [
    "data_dir = '/home/os/Desktop/SETA/Seta_Car/PaddleOCR/train_data'\n",
    "with open('/home/os/Desktop/SETA/Seta_Car/PaddleOCR/train_data/rec_carmodels.txt', 'w') as f:\n",
    "    for c in os.listdir(data_dir):\n",
    "        if c!= 'rec_carmodels.txt':\n",
    "            for img in os.listdir(os.path.join(data_dir,c)):\n",
    "                f.write('train_data/'+c+'/'+img+'\\t'+c+\"\\n\")"
   ]
  },
  {
   "cell_type": "code",
   "execution_count": 1,
   "metadata": {},
   "outputs": [],
   "source": [
    "with open('rec_carmodels.txt', 'w') as f:\n",
    "    f.write('Create a new text file!')\n",
    "for ext in [\"*.png\", \"*.jpeg\", \"*.jpg\"]:\n",
    "  images = glob2.glob(os.path.join(\"dataset/img/\", ext))"
   ]
  },
  {
   "cell_type": "markdown",
   "metadata": {},
   "source": [
    "### Create label for lisence plate"
   ]
  },
  {
   "cell_type": "code",
   "execution_count": 4,
   "metadata": {},
   "outputs": [],
   "source": [
    "path_train_data = '/home/os/Desktop/SETA/PaddleOCR-Studycases/train_data_lisenceplate_27112022'\n",
    "with open('/home/os/Desktop/SETA/PaddleOCR-Studycases/rec_lisenceplate-update.txt', 'w') as f:\n",
    "    for img_name in os.listdir(path_train_data):\n",
    "        if img_name!= 'rec_lisenceplate.txt':\n",
    "            lable = img_name.split('_')[-1][:-4]\n",
    "            f.write('train_data_lisenceplate/'+img_name+'\\t'+lable+\"\\n\")"
   ]
  },
  {
   "cell_type": "code",
   "execution_count": 7,
   "metadata": {},
   "outputs": [],
   "source": [
    "path_train_data = '/home/ubuntu/ds-veritone-energy/nhung/PaddleOCR-Studycases/train_data_lisenceplate'\n",
    "with open('/home/ubuntu/ds-veritone-energy/nhung/PaddleOCR-Studycases/rec_lisenceplate-update.txt', 'w') as f:\n",
    "    for img_name in os.listdir(path_train_data):\n",
    "        if '_' not in img_name:\n",
    "            label = img_name.split('-')[0]\n",
    "            if 'png' in label:\n",
    "                label = label[:-4]\n",
    "        else:\n",
    "            label = img_name.split('_')[-1][:-4]\n",
    "\n",
    "        #shutil.copyfile(os.path.join('/home/os/Desktop/SETA/Seta_Car/Dataset_Bienso',img_name), os.path.join(path_train_data,img_name))\n",
    "        f.write('train_data_lisenceplate/'+img_name+'\\t'+label+\"\\n\")\n"
   ]
  },
  {
   "cell_type": "code",
   "execution_count": 5,
   "metadata": {},
   "outputs": [
    {
     "data": {
      "text/plain": [
       "'7'"
      ]
     },
     "execution_count": 5,
     "metadata": {},
     "output_type": "execute_result"
    }
   ],
   "source": [
    "text = '7-Screenshot from 2022-09-12 09-46-55.png'\n",
    "text.split('-')[0]"
   ]
  },
  {
   "cell_type": "code",
   "execution_count": 18,
   "metadata": {},
   "outputs": [
    {
     "name": "stdout",
     "output_type": "stream",
     "text": [
      "4052\n"
     ]
    }
   ],
   "source": [
    "with open('/home/os/Desktop/SETA/PaddleOCR-Studycases/rec_lisenceplate.txt', 'r') as f:\n",
    "    Lines = f.readlines()\n",
    "  \n",
    "    count = 0\n",
    "    # Strips the newline character\n",
    "    for line in Lines:\n",
    "        count += 1\n",
    "        label = line.strip().split('\\t')[-1]\n",
    "        if 'png' in lable or 'jpg' in label:\n",
    "            print(line.strip().split('\\t')[0])\n",
    "print(count)"
   ]
  }
 ],
 "metadata": {
  "kernelspec": {
   "display_name": "Python 3.9.13 ('pytorch')",
   "language": "python",
   "name": "python3"
  },
  "language_info": {
   "codemirror_mode": {
    "name": "ipython",
    "version": 3
   },
   "file_extension": ".py",
   "mimetype": "text/x-python",
   "name": "python",
   "nbconvert_exporter": "python",
   "pygments_lexer": "ipython3",
   "version": "3.9.13"
  },
  "vscode": {
   "interpreter": {
    "hash": "2d58e898dde0263bc564c6968b04150abacfd33eed9b19aaa8e45c040360e146"
   }
  }
 },
 "nbformat": 4,
 "nbformat_minor": 2
}
